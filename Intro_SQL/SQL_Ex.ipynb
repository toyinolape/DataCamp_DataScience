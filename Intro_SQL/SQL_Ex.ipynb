{
 "cells": [
  {
   "cell_type": "code",
   "execution_count": 1,
   "metadata": {},
   "outputs": [],
   "source": [
    "#importing libraries/modules \n",
    "import sqlite3 as sql\n",
    "import csv\n",
    "import pandas as pd \n",
    "import numpy as np"
   ]
  },
  {
   "cell_type": "code",
   "execution_count": 2,
   "metadata": {},
   "outputs": [
    {
     "data": {
      "text/html": [
       "<div>\n",
       "<style scoped>\n",
       "    .dataframe tbody tr th:only-of-type {\n",
       "        vertical-align: middle;\n",
       "    }\n",
       "\n",
       "    .dataframe tbody tr th {\n",
       "        vertical-align: top;\n",
       "    }\n",
       "\n",
       "    .dataframe thead th {\n",
       "        text-align: right;\n",
       "    }\n",
       "</style>\n",
       "<table border=\"1\" class=\"dataframe\">\n",
       "  <thead>\n",
       "    <tr style=\"text-align: right;\">\n",
       "      <th></th>\n",
       "      <th>total_bill</th>\n",
       "      <th>tip</th>\n",
       "      <th>sex</th>\n",
       "      <th>smoker</th>\n",
       "      <th>day</th>\n",
       "      <th>time</th>\n",
       "      <th>size</th>\n",
       "      <th>fraction</th>\n",
       "    </tr>\n",
       "  </thead>\n",
       "  <tbody>\n",
       "    <tr>\n",
       "      <th>0</th>\n",
       "      <td>16.99</td>\n",
       "      <td>1.01</td>\n",
       "      <td>Female</td>\n",
       "      <td>No</td>\n",
       "      <td>Sun</td>\n",
       "      <td>Dinner</td>\n",
       "      <td>2</td>\n",
       "      <td>0.059447</td>\n",
       "    </tr>\n",
       "    <tr>\n",
       "      <th>1</th>\n",
       "      <td>10.34</td>\n",
       "      <td>1.66</td>\n",
       "      <td>Male</td>\n",
       "      <td>No</td>\n",
       "      <td>Sun</td>\n",
       "      <td>Dinner</td>\n",
       "      <td>3</td>\n",
       "      <td>0.160542</td>\n",
       "    </tr>\n",
       "    <tr>\n",
       "      <th>2</th>\n",
       "      <td>21.01</td>\n",
       "      <td>3.50</td>\n",
       "      <td>Male</td>\n",
       "      <td>No</td>\n",
       "      <td>Sun</td>\n",
       "      <td>Dinner</td>\n",
       "      <td>3</td>\n",
       "      <td>0.166587</td>\n",
       "    </tr>\n",
       "    <tr>\n",
       "      <th>3</th>\n",
       "      <td>23.68</td>\n",
       "      <td>3.31</td>\n",
       "      <td>Male</td>\n",
       "      <td>No</td>\n",
       "      <td>Sun</td>\n",
       "      <td>Dinner</td>\n",
       "      <td>2</td>\n",
       "      <td>0.139780</td>\n",
       "    </tr>\n",
       "    <tr>\n",
       "      <th>4</th>\n",
       "      <td>24.59</td>\n",
       "      <td>3.61</td>\n",
       "      <td>Female</td>\n",
       "      <td>No</td>\n",
       "      <td>Sun</td>\n",
       "      <td>Dinner</td>\n",
       "      <td>4</td>\n",
       "      <td>0.146808</td>\n",
       "    </tr>\n",
       "  </tbody>\n",
       "</table>\n",
       "</div>"
      ],
      "text/plain": [
       "   total_bill   tip     sex smoker  day    time  size  fraction\n",
       "0       16.99  1.01  Female     No  Sun  Dinner     2  0.059447\n",
       "1       10.34  1.66    Male     No  Sun  Dinner     3  0.160542\n",
       "2       21.01  3.50    Male     No  Sun  Dinner     3  0.166587\n",
       "3       23.68  3.31    Male     No  Sun  Dinner     2  0.139780\n",
       "4       24.59  3.61  Female     No  Sun  Dinner     4  0.146808"
      ]
     },
     "execution_count": 2,
     "metadata": {},
     "output_type": "execute_result"
    }
   ],
   "source": [
    "tips = pd.read_csv(\"C:\\\\Users\\\\TOYIN OLAPE\\\\Documents\\\\Stutern\\\\Data Sets\\\\tips.csv\")\n",
    "tips.dtypes\n",
    "tips.head()"
   ]
  },
  {
   "cell_type": "code",
   "execution_count": 3,
   "metadata": {},
   "outputs": [],
   "source": [
    "#Creating a Database \n",
    "con = sql.connect(\"tips.db\")\n",
    "cur = con.cursor()"
   ]
  },
  {
   "cell_type": "code",
   "execution_count": 4,
   "metadata": {},
   "outputs": [],
   "source": [
    "#Creating a Table \n",
    "tab = \"\"\"CREATE TABLE tip (total_bill REAL, tip REAL, sex TEXT, smoker TEXT, day TEXT, time TEXT, size INTEGER, fraction REAL)\"\"\""
   ]
  },
  {
   "cell_type": "code",
   "execution_count": 5,
   "metadata": {},
   "outputs": [
    {
     "data": {
      "text/plain": [
       "<sqlite3.Cursor at 0x258fe667810>"
      ]
     },
     "execution_count": 5,
     "metadata": {},
     "output_type": "execute_result"
    }
   ],
   "source": [
    "cur.execute(tab)\n"
   ]
  },
  {
   "cell_type": "code",
   "execution_count": 6,
   "metadata": {},
   "outputs": [
    {
     "data": {
      "text/plain": [
       "<sqlite3.Cursor at 0x258fe667810>"
      ]
     },
     "execution_count": 6,
     "metadata": {},
     "output_type": "execute_result"
    }
   ],
   "source": [
    "file = open(\"C:\\\\Users\\\\TOYIN OLAPE\\\\Documents\\\\Stutern\\\\Data Sets\\\\tips.csv\")\n",
    "rows = csv.reader(file)\n",
    "cur.executemany(\"INSERT INTO tip VALUES (?, ?, ?, ?, ?, ?, ?, ?)\", rows)"
   ]
  },
  {
   "cell_type": "code",
   "execution_count": 7,
   "metadata": {},
   "outputs": [
    {
     "name": "stdout",
     "output_type": "stream",
     "text": [
      "[('total_bill', 'tip', 'sex', 'smoker', 'day', 'time', 'size', 'fraction'), (16.99, 1.01, 'Female', 'No', 'Sun', 'Dinner', 2, 0.05944673337257211), (10.34, 1.66, 'Male', 'No', 'Sun', 'Dinner', 3, 0.16054158607350097), (21.01, 3.5, 'Male', 'No', 'Sun', 'Dinner', 3, 0.16658733936220846)]\n"
     ]
    }
   ],
   "source": [
    "cur.execute(\"SELECT * FROM tip\")\n",
    "\n",
    "#print(cur.fetchall())\n",
    "#Print first 4 rows instead of the above \n",
    "print(cur.fetchmany(4))\n"
   ]
  },
  {
   "cell_type": "code",
   "execution_count": 8,
   "metadata": {},
   "outputs": [
    {
     "name": "stdout",
     "output_type": "stream",
     "text": [
      "(23.68, 3.31, 'Male', 'No', 'Sun', 'Dinner', 2, 0.1397804054054054)\n",
      "(24.59, 3.61, 'Female', 'No', 'Sun', 'Dinner', 4, 0.14680764538430255)\n",
      "(25.29, 4.71, 'Male', 'No', 'Sun', 'Dinner', 4, 0.18623962040332148)\n",
      "(8.77, 2.0, 'Male', 'No', 'Sun', 'Dinner', 2, 0.22805017103762829)\n",
      "(26.88, 3.12, 'Male', 'No', 'Sun', 'Dinner', 4, 0.11607142857142858)\n"
     ]
    }
   ],
   "source": [
    "#Prinitng the content of the Database using iteration\n",
    "bills = cur.fetchmany(5)\n",
    "for bill in bills:\n",
    "    print(bill)"
   ]
  },
  {
   "cell_type": "code",
   "execution_count": 9,
   "metadata": {},
   "outputs": [
    {
     "name": "stdout",
     "output_type": "stream",
     "text": [
      "23.68 3.31 Male No\n",
      "24.59 3.61 Female No\n",
      "25.29 4.71 Male No\n",
      "8.77 2.0 Male No\n",
      "26.88 3.12 Male No\n"
     ]
    }
   ],
   "source": [
    "#Accessing the values by the column names \n",
    "for bill in bills:\n",
    "    total_bill, tip, sex, smoker, day, time, size, fraction = bill\n",
    "    print(total_bill, tip, sex, smoker)"
   ]
  },
  {
   "cell_type": "code",
   "execution_count": 10,
   "metadata": {},
   "outputs": [
    {
     "name": "stdout",
     "output_type": "stream",
     "text": [
      "23.68 No\n",
      "24.59 No\n",
      "25.29 No\n",
      "8.77 No\n",
      "26.88 No\n"
     ]
    }
   ],
   "source": [
    "\"\"\"\n",
    "Accessing the values by the column names \n",
    "Also note that this method works like index back wards \n",
    "\"\"\"\n",
    "\n",
    "for bill in bills:\n",
    "    total_bill, _, _, smoker, _, _, _, _ = bill\n",
    "    print(total_bill, smoker)"
   ]
  },
  {
   "cell_type": "code",
   "execution_count": 11,
   "metadata": {},
   "outputs": [
    {
     "name": "stdout",
     "output_type": "stream",
     "text": [
      "0.1397804054054054\n",
      "0.14680764538430255\n",
      "0.18623962040332148\n",
      "0.22805017103762829\n",
      "0.11607142857142858\n"
     ]
    }
   ],
   "source": [
    "#Starts from the last column \n",
    "\n",
    "for bill in bills:\n",
    "    _, _, _, smoker, _, _, _, _ = bill\n",
    "    print(_)"
   ]
  },
  {
   "cell_type": "code",
   "execution_count": 12,
   "metadata": {},
   "outputs": [
    {
     "name": "stdout",
     "output_type": "stream",
     "text": [
      "23.68\t\t 3.31\t\t Male\t\tNo\n",
      "24.59\t\t 3.61\t\t Female\t\tNo\n",
      "25.29\t\t 4.71\t\t Male\t\tNo\n",
      "8.77\t\t 2.0\t\t Male\t\tNo\n",
      "26.88\t\t 3.12\t\t Male\t\tNo\n"
     ]
    }
   ],
   "source": [
    "for bill in bills:\n",
    "    total_bill, tip, sex, smoker, day, time, size, fraction = bill\n",
    "    print(f\"{total_bill}\\t\\t {tip}\\t\\t {sex}\\t\\t{smoker}\")"
   ]
  },
  {
   "cell_type": "code",
   "execution_count": 13,
   "metadata": {},
   "outputs": [],
   "source": [
    "con.commit()\n",
    "con.close()"
   ]
  }
 ],
 "metadata": {
  "kernelspec": {
   "display_name": "Python 3",
   "language": "python",
   "name": "python3"
  },
  "language_info": {
   "codemirror_mode": {
    "name": "ipython",
    "version": 3
   },
   "file_extension": ".py",
   "mimetype": "text/x-python",
   "name": "python",
   "nbconvert_exporter": "python",
   "pygments_lexer": "ipython3",
   "version": "3.7.3"
  }
 },
 "nbformat": 4,
 "nbformat_minor": 2
}

{
 "cells": [
  {
   "cell_type": "code",
   "execution_count": 2,
   "metadata": {},
   "outputs": [],
   "source": [
    "#importing libraries/modules \n",
    "import sqlite3 as sql\n",
    "import csv\n",
    "import pandas as pd \n",
    "import numpy as np"
   ]
  },
  {
   "cell_type": "code",
   "execution_count": 4,
   "metadata": {},
   "outputs": [
    {
     "data": {
      "text/html": [
       "<div>\n",
       "<style scoped>\n",
       "    .dataframe tbody tr th:only-of-type {\n",
       "        vertical-align: middle;\n",
       "    }\n",
       "\n",
       "    .dataframe tbody tr th {\n",
       "        vertical-align: top;\n",
       "    }\n",
       "\n",
       "    .dataframe thead th {\n",
       "        text-align: right;\n",
       "    }\n",
       "</style>\n",
       "<table border=\"1\" class=\"dataframe\">\n",
       "  <thead>\n",
       "    <tr style=\"text-align: right;\">\n",
       "      <th></th>\n",
       "      <th>mpg</th>\n",
       "      <th>cyl</th>\n",
       "      <th>displ</th>\n",
       "      <th>hp</th>\n",
       "      <th>weight</th>\n",
       "      <th>accel</th>\n",
       "      <th>yr</th>\n",
       "      <th>origin</th>\n",
       "      <th>name</th>\n",
       "    </tr>\n",
       "  </thead>\n",
       "  <tbody>\n",
       "    <tr>\n",
       "      <th>0</th>\n",
       "      <td>18.0</td>\n",
       "      <td>8</td>\n",
       "      <td>307.0</td>\n",
       "      <td>130</td>\n",
       "      <td>3504</td>\n",
       "      <td>12.0</td>\n",
       "      <td>1970-01-01</td>\n",
       "      <td>US</td>\n",
       "      <td>chevrolet chevelle malibu</td>\n",
       "    </tr>\n",
       "    <tr>\n",
       "      <th>1</th>\n",
       "      <td>15.0</td>\n",
       "      <td>8</td>\n",
       "      <td>350.0</td>\n",
       "      <td>165</td>\n",
       "      <td>3693</td>\n",
       "      <td>11.5</td>\n",
       "      <td>1970-01-01</td>\n",
       "      <td>US</td>\n",
       "      <td>buick skylark 320</td>\n",
       "    </tr>\n",
       "    <tr>\n",
       "      <th>2</th>\n",
       "      <td>18.0</td>\n",
       "      <td>8</td>\n",
       "      <td>318.0</td>\n",
       "      <td>150</td>\n",
       "      <td>3436</td>\n",
       "      <td>11.0</td>\n",
       "      <td>1970-01-01</td>\n",
       "      <td>US</td>\n",
       "      <td>plymouth satellite</td>\n",
       "    </tr>\n",
       "    <tr>\n",
       "      <th>3</th>\n",
       "      <td>16.0</td>\n",
       "      <td>8</td>\n",
       "      <td>304.0</td>\n",
       "      <td>150</td>\n",
       "      <td>3433</td>\n",
       "      <td>12.0</td>\n",
       "      <td>1970-01-01</td>\n",
       "      <td>US</td>\n",
       "      <td>amc rebel sst</td>\n",
       "    </tr>\n",
       "    <tr>\n",
       "      <th>4</th>\n",
       "      <td>17.0</td>\n",
       "      <td>8</td>\n",
       "      <td>302.0</td>\n",
       "      <td>140</td>\n",
       "      <td>3449</td>\n",
       "      <td>10.5</td>\n",
       "      <td>1970-01-01</td>\n",
       "      <td>US</td>\n",
       "      <td>ford torino</td>\n",
       "    </tr>\n",
       "  </tbody>\n",
       "</table>\n",
       "</div>"
      ],
      "text/plain": [
       "    mpg  cyl  displ   hp  weight  accel          yr origin  \\\n",
       "0  18.0    8  307.0  130    3504   12.0  1970-01-01     US   \n",
       "1  15.0    8  350.0  165    3693   11.5  1970-01-01     US   \n",
       "2  18.0    8  318.0  150    3436   11.0  1970-01-01     US   \n",
       "3  16.0    8  304.0  150    3433   12.0  1970-01-01     US   \n",
       "4  17.0    8  302.0  140    3449   10.5  1970-01-01     US   \n",
       "\n",
       "                        name  \n",
       "0  chevrolet chevelle malibu  \n",
       "1          buick skylark 320  \n",
       "2         plymouth satellite  \n",
       "3              amc rebel sst  \n",
       "4                ford torino  "
      ]
     },
     "execution_count": 4,
     "metadata": {},
     "output_type": "execute_result"
    }
   ],
   "source": [
    "tips = pd.read_csv(\"C:\\\\Users\\\\TOYIN OLAPE\\\\Documents\\\\Stutern\\\\Data Sets\\\\automobiles.csv\")\n",
    "tips.dtypes\n",
    "tips.head()"
   ]
  },
  {
   "cell_type": "markdown",
   "metadata": {},
   "source": [
    "## Creating Database and table "
   ]
  },
  {
   "cell_type": "code",
   "execution_count": 5,
   "metadata": {},
   "outputs": [],
   "source": [
    "#Creating a Database \n",
    "con = sql.connect(\"auto.db\")\n",
    "cur = con.cursor()"
   ]
  },
  {
   "cell_type": "code",
   "execution_count": 16,
   "metadata": {},
   "outputs": [],
   "source": [
    "#Creating a Table \n",
    "tab = \"\"\"CREATE TABLE automobile (mpg REAL, cyl INTEGER, displ REEAL, hp INTEGER, weight INTEGER, accel REAL, yr DATE, origin TEXT, name TEXT)\"\"\""
   ]
  },
  {
   "cell_type": "code",
   "execution_count": 17,
   "metadata": {},
   "outputs": [
    {
     "data": {
      "text/plain": [
       "<sqlite3.Cursor at 0x211fffa7260>"
      ]
     },
     "execution_count": 17,
     "metadata": {},
     "output_type": "execute_result"
    }
   ],
   "source": [
    "cur.execute(tab)\n"
   ]
  },
  {
   "cell_type": "code",
   "execution_count": 18,
   "metadata": {},
   "outputs": [
    {
     "data": {
      "text/plain": [
       "<sqlite3.Cursor at 0x211fffa7260>"
      ]
     },
     "execution_count": 18,
     "metadata": {},
     "output_type": "execute_result"
    }
   ],
   "source": [
    "file = open(\"C:\\\\Users\\\\TOYIN OLAPE\\\\Documents\\\\Stutern\\\\Data Sets\\\\auto.csv\")\n",
    "rows = csv.reader(file)\n",
    "cur.executemany(\"INSERT INTO automobile VALUES (?, ?, ?, ?, ?, ?, ?, ?, ?)\", rows)"
   ]
  },
  {
   "cell_type": "code",
   "execution_count": 24,
   "metadata": {},
   "outputs": [
    {
     "name": "stdout",
     "output_type": "stream",
     "text": [
      "[]\n"
     ]
    }
   ],
   "source": [
    "cur.execute(\"SELECT * FROM automobile\")\n",
    "\n",
    "#print(cur.fetchall())\n",
    "#Print first 4 rows instead of the above \n",
    "print(cur.fetchmany(4))\n"
   ]
  },
  {
   "cell_type": "code",
   "execution_count": 8,
   "metadata": {},
   "outputs": [
    {
     "name": "stdout",
     "output_type": "stream",
     "text": [
      "(23.68, 3.31, 'Male', 'No', 'Sun', 'Dinner', 2, 0.1397804054054054)\n",
      "(24.59, 3.61, 'Female', 'No', 'Sun', 'Dinner', 4, 0.14680764538430255)\n",
      "(25.29, 4.71, 'Male', 'No', 'Sun', 'Dinner', 4, 0.18623962040332148)\n",
      "(8.77, 2.0, 'Male', 'No', 'Sun', 'Dinner', 2, 0.22805017103762829)\n",
      "(26.88, 3.12, 'Male', 'No', 'Sun', 'Dinner', 4, 0.11607142857142858)\n"
     ]
    }
   ],
   "source": [
    "#Prinitng the content of the Database using iteration\n",
    "bills = cur.fetchmany(5)\n",
    "for bill in bills:\n",
    "    print(bill)"
   ]
  },
  {
   "cell_type": "code",
   "execution_count": 9,
   "metadata": {},
   "outputs": [
    {
     "name": "stdout",
     "output_type": "stream",
     "text": [
      "23.68 3.31 Male No\n",
      "24.59 3.61 Female No\n",
      "25.29 4.71 Male No\n",
      "8.77 2.0 Male No\n",
      "26.88 3.12 Male No\n"
     ]
    }
   ],
   "source": [
    "#Accessing the values by the column names \n",
    "for bill in bills:\n",
    "    total_bill, tip, sex, smoker, day, time, size, fraction = bill\n",
    "    print(total_bill, tip, sex, smoker)"
   ]
  },
  {
   "cell_type": "code",
   "execution_count": 10,
   "metadata": {},
   "outputs": [
    {
     "name": "stdout",
     "output_type": "stream",
     "text": [
      "23.68 No\n",
      "24.59 No\n",
      "25.29 No\n",
      "8.77 No\n",
      "26.88 No\n"
     ]
    }
   ],
   "source": [
    "\"\"\"\n",
    "Accessing the values by the column names \n",
    "Also note that this method works like index back wards \n",
    "\"\"\"\n",
    "\n",
    "for bill in bills:\n",
    "    total_bill, _, _, smoker, _, _, _, _ = bill\n",
    "    print(total_bill, smoker)"
   ]
  },
  {
   "cell_type": "code",
   "execution_count": 11,
   "metadata": {},
   "outputs": [
    {
     "name": "stdout",
     "output_type": "stream",
     "text": [
      "0.1397804054054054\n",
      "0.14680764538430255\n",
      "0.18623962040332148\n",
      "0.22805017103762829\n",
      "0.11607142857142858\n"
     ]
    }
   ],
   "source": [
    "#Starts from the last column \n",
    "\n",
    "for bill in bills:\n",
    "    _, _, _, smoker, _, _, _, _ = bill\n",
    "    print(_)"
   ]
  },
  {
   "cell_type": "code",
   "execution_count": 12,
   "metadata": {},
   "outputs": [
    {
     "name": "stdout",
     "output_type": "stream",
     "text": [
      "23.68\t\t 3.31\t\t Male\t\tNo\n",
      "24.59\t\t 3.61\t\t Female\t\tNo\n",
      "25.29\t\t 4.71\t\t Male\t\tNo\n",
      "8.77\t\t 2.0\t\t Male\t\tNo\n",
      "26.88\t\t 3.12\t\t Male\t\tNo\n"
     ]
    }
   ],
   "source": [
    "for bill in bills:\n",
    "    total_bill, tip, sex, smoker, day, time, size, fraction = bill\n",
    "    print(f\"{total_bill}\\t\\t {tip}\\t\\t {sex}\\t\\t{smoker}\")"
   ]
  },
  {
   "cell_type": "code",
   "execution_count": 13,
   "metadata": {},
   "outputs": [],
   "source": [
    "con.commit()\n",
    "con.close()"
   ]
  },
  {
   "cell_type": "code",
   "execution_count": null,
   "metadata": {},
   "outputs": [],
   "source": []
  }
 ],
 "metadata": {
  "kernelspec": {
   "display_name": "Python 3",
   "language": "python",
   "name": "python3"
  },
  "language_info": {
   "codemirror_mode": {
    "name": "ipython",
    "version": 3
   },
   "file_extension": ".py",
   "mimetype": "text/x-python",
   "name": "python",
   "nbconvert_exporter": "python",
   "pygments_lexer": "ipython3",
   "version": "3.7.3"
  }
 },
 "nbformat": 4,
 "nbformat_minor": 2
}
